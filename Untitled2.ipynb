{
  "nbformat": 4,
  "nbformat_minor": 0,
  "metadata": {
    "colab": {
      "provenance": [],
      "authorship_tag": "ABX9TyOtUDczs9Hd9aIKNdhzU+2h",
      "include_colab_link": true
    },
    "kernelspec": {
      "name": "python3",
      "display_name": "Python 3"
    },
    "language_info": {
      "name": "python"
    }
  },
  "cells": [
    {
      "cell_type": "markdown",
      "metadata": {
        "id": "view-in-github",
        "colab_type": "text"
      },
      "source": [
        "<a href=\"https://colab.research.google.com/github/Medowvibezzz/Footyai-app/blob/main/Untitled2.ipynb\" target=\"_parent\"><img src=\"https://colab.research.google.com/assets/colab-badge.svg\" alt=\"Open In Colab\"/></a>"
      ]
    },
    {
      "cell_type": "code",
      "execution_count": 1,
      "metadata": {
        "colab": {
          "base_uri": "https://localhost:8080/"
        },
        "id": "j54dbkAuUgb1",
        "outputId": "d1bf1cd1-eaf5-4573-aeef-45cc8d0c151e"
      },
      "outputs": [
        {
          "output_type": "stream",
          "name": "stdout",
          "text": [
            "Requirement already satisfied: opencv-python in /usr/local/lib/python3.11/dist-packages (4.12.0.88)\n",
            "Requirement already satisfied: numpy<2.3.0,>=2 in /usr/local/lib/python3.11/dist-packages (from opencv-python) (2.0.2)\n"
          ]
        }
      ],
      "source": [
        "# Installiere OpenCV für Videoanalyse\n",
        "!pip install opencv-python"
      ]
    },
    {
      "cell_type": "code",
      "source": [
        "from google.colab import files\n",
        "print(\"Bitte lade dein Fußballvideo hoch (MP4 oder MOV)...\")\n",
        "uploaded = files.upload()"
      ],
      "metadata": {
        "colab": {
          "base_uri": "https://localhost:8080/",
          "height": 163
        },
        "id": "-LDbqr-oUuvj",
        "outputId": "f7bb483f-28a7-4612-8710-f68b97210261"
      },
      "execution_count": 2,
      "outputs": [
        {
          "output_type": "stream",
          "name": "stdout",
          "text": [
            "Bitte lade dein Fußballvideo hoch (MP4 oder MOV)...\n"
          ]
        },
        {
          "output_type": "display_data",
          "data": {
            "text/plain": [
              "<IPython.core.display.HTML object>"
            ],
            "text/html": [
              "\n",
              "     <input type=\"file\" id=\"files-d4eb5cfd-67c2-48c4-940c-8db454dcfc5b\" name=\"files[]\" multiple disabled\n",
              "        style=\"border:none\" />\n",
              "     <output id=\"result-d4eb5cfd-67c2-48c4-940c-8db454dcfc5b\">\n",
              "      Upload widget is only available when the cell has been executed in the\n",
              "      current browser session. Please rerun this cell to enable.\n",
              "      </output>\n",
              "      <script>// Copyright 2017 Google LLC\n",
              "//\n",
              "// Licensed under the Apache License, Version 2.0 (the \"License\");\n",
              "// you may not use this file except in compliance with the License.\n",
              "// You may obtain a copy of the License at\n",
              "//\n",
              "//      http://www.apache.org/licenses/LICENSE-2.0\n",
              "//\n",
              "// Unless required by applicable law or agreed to in writing, software\n",
              "// distributed under the License is distributed on an \"AS IS\" BASIS,\n",
              "// WITHOUT WARRANTIES OR CONDITIONS OF ANY KIND, either express or implied.\n",
              "// See the License for the specific language governing permissions and\n",
              "// limitations under the License.\n",
              "\n",
              "/**\n",
              " * @fileoverview Helpers for google.colab Python module.\n",
              " */\n",
              "(function(scope) {\n",
              "function span(text, styleAttributes = {}) {\n",
              "  const element = document.createElement('span');\n",
              "  element.textContent = text;\n",
              "  for (const key of Object.keys(styleAttributes)) {\n",
              "    element.style[key] = styleAttributes[key];\n",
              "  }\n",
              "  return element;\n",
              "}\n",
              "\n",
              "// Max number of bytes which will be uploaded at a time.\n",
              "const MAX_PAYLOAD_SIZE = 100 * 1024;\n",
              "\n",
              "function _uploadFiles(inputId, outputId) {\n",
              "  const steps = uploadFilesStep(inputId, outputId);\n",
              "  const outputElement = document.getElementById(outputId);\n",
              "  // Cache steps on the outputElement to make it available for the next call\n",
              "  // to uploadFilesContinue from Python.\n",
              "  outputElement.steps = steps;\n",
              "\n",
              "  return _uploadFilesContinue(outputId);\n",
              "}\n",
              "\n",
              "// This is roughly an async generator (not supported in the browser yet),\n",
              "// where there are multiple asynchronous steps and the Python side is going\n",
              "// to poll for completion of each step.\n",
              "// This uses a Promise to block the python side on completion of each step,\n",
              "// then passes the result of the previous step as the input to the next step.\n",
              "function _uploadFilesContinue(outputId) {\n",
              "  const outputElement = document.getElementById(outputId);\n",
              "  const steps = outputElement.steps;\n",
              "\n",
              "  const next = steps.next(outputElement.lastPromiseValue);\n",
              "  return Promise.resolve(next.value.promise).then((value) => {\n",
              "    // Cache the last promise value to make it available to the next\n",
              "    // step of the generator.\n",
              "    outputElement.lastPromiseValue = value;\n",
              "    return next.value.response;\n",
              "  });\n",
              "}\n",
              "\n",
              "/**\n",
              " * Generator function which is called between each async step of the upload\n",
              " * process.\n",
              " * @param {string} inputId Element ID of the input file picker element.\n",
              " * @param {string} outputId Element ID of the output display.\n",
              " * @return {!Iterable<!Object>} Iterable of next steps.\n",
              " */\n",
              "function* uploadFilesStep(inputId, outputId) {\n",
              "  const inputElement = document.getElementById(inputId);\n",
              "  inputElement.disabled = false;\n",
              "\n",
              "  const outputElement = document.getElementById(outputId);\n",
              "  outputElement.innerHTML = '';\n",
              "\n",
              "  const pickedPromise = new Promise((resolve) => {\n",
              "    inputElement.addEventListener('change', (e) => {\n",
              "      resolve(e.target.files);\n",
              "    });\n",
              "  });\n",
              "\n",
              "  const cancel = document.createElement('button');\n",
              "  inputElement.parentElement.appendChild(cancel);\n",
              "  cancel.textContent = 'Cancel upload';\n",
              "  const cancelPromise = new Promise((resolve) => {\n",
              "    cancel.onclick = () => {\n",
              "      resolve(null);\n",
              "    };\n",
              "  });\n",
              "\n",
              "  // Wait for the user to pick the files.\n",
              "  const files = yield {\n",
              "    promise: Promise.race([pickedPromise, cancelPromise]),\n",
              "    response: {\n",
              "      action: 'starting',\n",
              "    }\n",
              "  };\n",
              "\n",
              "  cancel.remove();\n",
              "\n",
              "  // Disable the input element since further picks are not allowed.\n",
              "  inputElement.disabled = true;\n",
              "\n",
              "  if (!files) {\n",
              "    return {\n",
              "      response: {\n",
              "        action: 'complete',\n",
              "      }\n",
              "    };\n",
              "  }\n",
              "\n",
              "  for (const file of files) {\n",
              "    const li = document.createElement('li');\n",
              "    li.append(span(file.name, {fontWeight: 'bold'}));\n",
              "    li.append(span(\n",
              "        `(${file.type || 'n/a'}) - ${file.size} bytes, ` +\n",
              "        `last modified: ${\n",
              "            file.lastModifiedDate ? file.lastModifiedDate.toLocaleDateString() :\n",
              "                                    'n/a'} - `));\n",
              "    const percent = span('0% done');\n",
              "    li.appendChild(percent);\n",
              "\n",
              "    outputElement.appendChild(li);\n",
              "\n",
              "    const fileDataPromise = new Promise((resolve) => {\n",
              "      const reader = new FileReader();\n",
              "      reader.onload = (e) => {\n",
              "        resolve(e.target.result);\n",
              "      };\n",
              "      reader.readAsArrayBuffer(file);\n",
              "    });\n",
              "    // Wait for the data to be ready.\n",
              "    let fileData = yield {\n",
              "      promise: fileDataPromise,\n",
              "      response: {\n",
              "        action: 'continue',\n",
              "      }\n",
              "    };\n",
              "\n",
              "    // Use a chunked sending to avoid message size limits. See b/62115660.\n",
              "    let position = 0;\n",
              "    do {\n",
              "      const length = Math.min(fileData.byteLength - position, MAX_PAYLOAD_SIZE);\n",
              "      const chunk = new Uint8Array(fileData, position, length);\n",
              "      position += length;\n",
              "\n",
              "      const base64 = btoa(String.fromCharCode.apply(null, chunk));\n",
              "      yield {\n",
              "        response: {\n",
              "          action: 'append',\n",
              "          file: file.name,\n",
              "          data: base64,\n",
              "        },\n",
              "      };\n",
              "\n",
              "      let percentDone = fileData.byteLength === 0 ?\n",
              "          100 :\n",
              "          Math.round((position / fileData.byteLength) * 100);\n",
              "      percent.textContent = `${percentDone}% done`;\n",
              "\n",
              "    } while (position < fileData.byteLength);\n",
              "  }\n",
              "\n",
              "  // All done.\n",
              "  yield {\n",
              "    response: {\n",
              "      action: 'complete',\n",
              "    }\n",
              "  };\n",
              "}\n",
              "\n",
              "scope.google = scope.google || {};\n",
              "scope.google.colab = scope.google.colab || {};\n",
              "scope.google.colab._files = {\n",
              "  _uploadFiles,\n",
              "  _uploadFilesContinue,\n",
              "};\n",
              "})(self);\n",
              "</script> "
            ]
          },
          "metadata": {}
        },
        {
          "output_type": "stream",
          "name": "stdout",
          "text": [
            "Saving Inter Miami CF vs. Atlas FC ｜ Full Match Highlights ｜ Messi Stoppage Time Drama!.mp4 to Inter Miami CF vs. Atlas FC ｜ Full Match Highlights ｜ Messi Stoppage Time Drama!.mp4\n"
          ]
        }
      ]
    },
    {
      "cell_type": "code",
      "source": [
        "import cv2\n",
        "import os\n",
        "\n",
        "video_datei = list(uploaded.keys())[0]\n",
        "cap = cv2.VideoCapture(video_datei)\n",
        "\n",
        "frame_count = 0\n",
        "os.makedirs(\"frames\", exist_ok=True)\n",
        "\n",
        "while cap.isOpened():\n",
        "    ret, frame = cap.read()\n",
        "    if not ret:\n",
        "        break\n",
        "    frame_name = f\"frames/frame_{frame_count}.jpg\"\n",
        "    cv2.imwrite(frame_name, frame)\n",
        "    frame_count += 1\n",
        "\n",
        "cap.release()\n",
        "print(f\"{frame_count} Einzelbilder wurden extrahiert.\")"
      ],
      "metadata": {
        "id": "wVDuOvg8Yl9U"
      },
      "execution_count": null,
      "outputs": []
    },
    {
      "cell_type": "code",
      "source": [
        "from IPython.display import Image, display\n",
        "\n",
        "print(\"Hier sind einige Szenen aus deinem Video:\")\n",
        "for i in range(0, frame_count, 30):  # Zeige jede 30. Szene\n",
        "    display(Image(filename=f\"frames/frame_{i}.jpg\"))"
      ],
      "metadata": {
        "id": "JXfchYn1Ytdx"
      },
      "execution_count": null,
      "outputs": []
    },
    {
      "cell_type": "code",
      "source": [
        "import cv2\n",
        "import numpy as np\n",
        "import os\n",
        "\n",
        "# Lade zwei aufeinanderfolgende Bilder\n",
        "frame1 = cv2.imread(\"frames/frame_0.jpg\")\n",
        "frame2 = cv2.imread(\"frames/frame_1.jpg\")\n",
        "\n",
        "# In Graustufen umwandeln\n",
        "gray1 = cv2.cvtColor(frame1, cv2.COLOR_BGR2GRAY)\n",
        "gray2 = cv2.cvtColor(frame2, cv2.COLOR_BGR2GRAY)\n",
        "\n",
        "# Differenz berechnen\n",
        "diff = cv2.absdiff(gray1, gray2)\n",
        "\n",
        "# Schwellenwert setzen\n",
        "_, thresh = cv2.threshold(diff, 30, 255, cv2.THRESH_BINARY)\n",
        "\n",
        "# Zeige das Ergebnis\n",
        "from matplotlib import pyplot as plt\n",
        "\n",
        "plt.figure(figsize=(10,5))\n",
        "plt.title(\"Bewegungserkennung zwischen zwei Bildern\")\n",
        "plt.imshow(thresh, cmap='gray')\n",
        "plt.axis('off')\n",
        "plt.show()"
      ],
      "metadata": {
        "id": "aNOT5iHBYwJ2"
      },
      "execution_count": null,
      "outputs": []
    },
    {
      "cell_type": "code",
      "source": [
        "bewegung_summe = []\n",
        "\n",
        "for i in range(frame_count - 1):\n",
        "    f1 = cv2.imread(f\"frames/frame_{i}.jpg\")\n",
        "    f2 = cv2.imread(f\"frames/frame_{i+1}.jpg\")\n",
        "\n",
        "    g1 = cv2.cvtColor(f1, cv2.COLOR_BGR2GRAY)\n",
        "    g2 = cv2.cvtColor(f2, cv2.COLOR_BGR2GRAY)\n",
        "\n",
        "    diff = cv2.absdiff(g1, g2)\n",
        "    _, thresh = cv2.threshold(diff, 30, 255, cv2.THRESH_BINARY)\n",
        "\n",
        "    bewegung = np.sum(thresh) / 255  # Anzahl bewegter Pixel\n",
        "    bewegung_summe.append(bewegung)\n",
        "\n",
        "# Plot der Bewegung über Zeit\n",
        "plt.figure(figsize=(12,4))\n",
        "plt.plot(bewegung_summe)\n",
        "plt.title(\"Bewegung im Video über Zeit\")\n",
        "plt.xlabel(\"Frame\")\n",
        "plt.ylabel(\"Bewegung (Pixel)\")\n",
        "plt.show()"
      ],
      "metadata": {
        "id": "zpjS0A-eY51L"
      },
      "execution_count": null,
      "outputs": []
    },
    {
      "cell_type": "code",
      "source": [
        "# Finde Frames mit besonders viel Bewegung\n",
        "bewegung_array = np.array(bewegung_summe)\n",
        "schwelle = np.percentile(bewegung_array, 90)  # obere 10%\n",
        "\n",
        "spitzen_frames = np.where(bewegung_array > schwelle)[0]\n",
        "\n",
        "print(\"Frames mit besonders viel Bewegung:\")\n",
        "print(spitzen_frames)"
      ],
      "metadata": {
        "id": "iaLavdqJY-JA"
      },
      "execution_count": null,
      "outputs": []
    },
    {
      "cell_type": "code",
      "source": [
        "# Installiere MediaPipe für Körperhaltungserkennung\n",
        "!pip install mediapipe"
      ],
      "metadata": {
        "id": "Lm2S27HrZBTA"
      },
      "execution_count": null,
      "outputs": []
    },
    {
      "cell_type": "code",
      "source": [
        "import mediapipe as mp\n",
        "from PIL import Image\n",
        "import matplotlib.pyplot as plt\n",
        "\n",
        "mp_pose = mp.solutions.pose\n",
        "pose = mp_pose.Pose()\n",
        "mp_drawing = mp.solutions.drawing_utils\n",
        "\n",
        "# Beispielbild mit viel Bewegung\n",
        "bild = cv2.imread(f\"frames/frame_{spitzen_frames[0]}.jpg\")\n",
        "bild_rgb = cv2.cvtColor(bild, cv2.COLOR_BGR2RGB)\n",
        "\n",
        "# Pose erkennen\n",
        "result = pose.process(bild_rgb)\n",
        "\n",
        "# Pose zeichnen\n",
        "annotated = bild_rgb.copy()\n",
        "if result.pose_landmarks:\n",
        "    mp_drawing.draw_landmarks(annotated, result.pose_landmarks, mp_pose.POSE_CONNECTIONS)\n",
        "\n",
        "# Zeigen\n",
        "plt.figure(figsize=(8,6))\n",
        "plt.imshow(annotated)\n",
        "plt.title(\"Körperhaltungserkennung\")\n",
        "plt.axis('off')\n",
        "plt.show()"
      ],
      "metadata": {
        "id": "XpoiqPKkZQzS"
      },
      "execution_count": null,
      "outputs": []
    },
    {
      "cell_type": "code",
      "source": [
        "def technik_score(pose_landmarks):\n",
        "    if not pose_landmarks:\n",
        "        return 0  # Keine Pose erkannt\n",
        "\n",
        "    # Beispiel: Abstand zwischen Händen und Füßen\n",
        "    left_hand = pose_landmarks.landmark[mp_pose.PoseLandmark.LEFT_WRIST]\n",
        "    left_foot = pose_landmarks.landmark[mp_pose.PoseLandmark.LEFT_ANKLE]\n",
        "\n",
        "    dist = ((left_hand.x - left_foot.x)**2 + (left_hand.y - left_foot.y)**2)**0.5\n",
        "    score = max(0, 100 - dist * 100)  # Einfacher Score\n",
        "\n",
        "    return round(score, 2)\n",
        "\n",
        "# Score berechnen\n",
        "if result.pose_landmarks:\n",
        "    score = technik_score(result.pose_landmarks)\n",
        "    print(f\"Technik-Score: {score}/100\")\n",
        "else:\n",
        "    print(\"Keine Pose erkannt.\")"
      ],
      "metadata": {
        "id": "y9UoZY4eZVTz"
      },
      "execution_count": null,
      "outputs": []
    },
    {
      "cell_type": "code",
      "source": [
        "def berechne_tempo(frames_liste):\n",
        "    geschwindigkeiten = []\n",
        "\n",
        "    for i in range(len(frames_liste) - 1):\n",
        "        f1 = cv2.imread(f\"frames/frame_{frames_liste[i]}.jpg\")\n",
        "        f2 = cv2.imread(f\"frames/frame_{frames_liste[i+1]}.jpg\")\n",
        "\n",
        "        g1 = cv2.cvtColor(f1, cv2.COLOR_BGR2GRAY)\n",
        "        g2 = cv2.cvtColor(f2, cv2.COLOR_BGR2GRAY)\n",
        "\n",
        "        diff = cv2.absdiff(g1, g2)\n",
        "        _, thresh = cv2.threshold(diff, 30, 255, cv2.THRESH_BINARY)\n",
        "\n",
        "        bewegung = np.sum(thresh) / 255\n",
        "        geschwindigkeiten.append(bewegung)\n",
        "\n",
        "    return geschwindigkeiten"
      ],
      "metadata": {
        "id": "hYqGpP3uZd2Y"
      },
      "execution_count": null,
      "outputs": []
    },
    {
      "cell_type": "code",
      "source": [
        "# Nutze die Frames mit viel Bewegung\n",
        "tempo_daten = berechne_tempo(spitzen_frames)\n",
        "\n",
        "# Durchschnittliche Geschwindigkeit\n",
        "durchschnitt = np.mean(tempo_daten)\n",
        "\n",
        "# Tempo-Score (Skala 0–100)\n",
        "tempo_score = min(100, round(durchschnitt / 10, 2))\n",
        "\n",
        "print(f\"Tempo-Score: {tempo_score}/100\")"
      ],
      "metadata": {
        "id": "9qca8OueZokT"
      },
      "execution_count": null,
      "outputs": []
    },
    {
      "cell_type": "code",
      "source": [
        "plt.figure(figsize=(10,4))\n",
        "plt.plot(tempo_daten, marker='o')\n",
        "plt.title(\"Tempo über Frames\")\n",
        "plt.xlabel(\"Frame\")\n",
        "plt.ylabel(\"Geschwindigkeit\")\n",
        "plt.grid(True)\n",
        "plt.show()"
      ],
      "metadata": {
        "id": "I6esbjpAZuJj"
      },
      "execution_count": null,
      "outputs": []
    },
    {
      "cell_type": "code",
      "source": [
        "def finde_ball_position(frame):\n",
        "    hsv = cv2.cvtColor(frame, cv2.COLOR_BGR2HSV)\n",
        "\n",
        "    # Beispiel: Weißer Ball (du kannst Farbe anpassen)\n",
        "    lower_white = np.array([0, 0, 200])\n",
        "    upper_white = np.array([180, 30, 255])\n",
        "\n",
        "    maske = cv2.inRange(hsv, lower_white, upper_white)\n",
        "    konturen, _ = cv2.findContours(maske, cv2.RETR_EXTERNAL, cv2.CHAIN_APPROX_SIMPLE)\n",
        "\n",
        "    if konturen:\n",
        "        größte = max(konturen, key=cv2.contourArea)\n",
        "        (x, y), radius = cv2.minEnclosingCircle(größte)\n",
        "        if radius > 3:  # Filter gegen Rauschen\n",
        "            return int(x), int(y)\n",
        "    return None"
      ],
      "metadata": {
        "id": "z_TiN1DpZxf2"
      },
      "execution_count": null,
      "outputs": []
    },
    {
      "cell_type": "code",
      "source": [
        "ball_positionen = []\n",
        "\n",
        "for i in spitzen_frames:\n",
        "    frame = cv2.imread(f\"frames/frame_{i}.jpg\")\n",
        "    pos = finde_ball_position(frame)\n",
        "    if pos:\n",
        "        ball_positionen.append(pos)\n",
        "\n",
        "print(\"Ballpositionen:\", ball_positionen)"
      ],
      "metadata": {
        "id": "2hXamU20aAFp"
      },
      "execution_count": null,
      "outputs": []
    },
    {
      "cell_type": "code",
      "source": [
        "def bewertung_passgenauigkeit(positionen):\n",
        "    if len(positionen) < 2:\n",
        "        return 0  # Nicht genug Daten\n",
        "\n",
        "    # Berechne Gesamtlänge des Passes\n",
        "    distanz = 0\n",
        "    für i in range(len(positionen) - 1):\n",
        "        x1, y1 = positionen[i]\n",
        "        x2, y2 = positionen[i+1]\n",
        "        distanz += ((x2 - x1)**2 + (y2 - y1)**2)**0.5\n",
        "\n",
        "    # Berechne Geradlinigkeit (Start zu Ende)\n",
        "    x_start, y_start = positionen[0]\n",
        "    x_ende, y_ende = positionen[-1]\n",
        "    direkt = ((x_ende - x_start)**2 + (y_ende - y_start)**2)**0.5\n",
        "\n",
        "    # Score: Verhältnis von direkter Linie zu tatsächlichem Verlauf\n",
        "    if distanz == 0:\n",
        "        return 0\n",
        "    score = direkt / distanz * 100\n",
        "    return round(min(score, 100), 2)\n",
        "\n",
        "pass_score = bewertung_passgenauigkeit(ball_positionen)\n",
        "print(f\"Passgenauigkeit-Score: {pass_score}/100\")"
      ],
      "metadata": {
        "id": "P0R0ZzrjaCqZ"
      },
      "execution_count": null,
      "outputs": []
    },
    {
      "cell_type": "code",
      "source": [
        "x_coords = [p[0] for p in ball_positionen]\n",
        "y_coords = [p[1] for p in ball_positionen]\n",
        "\n",
        "plt.figure(figsize=(6,6))\n",
        "plt.plot(x_coords, y_coords, marker='o')\n",
        "plt.title(\"Ballverlauf (Pass)\")\n",
        "plt.xlabel(\"X\")\n",
        "plt.ylabel(\"Y\")\n",
        "plt.grid(True)\n",
        "plt.show()"
      ],
      "metadata": {
        "id": "a2AaTeOnaFAG"
      },
      "execution_count": null,
      "outputs": []
    },
    {
      "cell_type": "code",
      "source": [
        "!pip install streamlit"
      ],
      "metadata": {
        "id": "Cz6NpAn-aKbc"
      },
      "execution_count": null,
      "outputs": []
    },
    {
      "cell_type": "code",
      "source": [
        "%%writefile app.py\n",
        "import streamlit as st\n",
        "import cv2\n",
        "import numpy as np\n",
        "import tempfile\n",
        "from PIL import Image\n",
        "\n",
        "st.title(\"⚽ Fußball-KI Bewertung\")\n",
        "\n",
        "uploaded_file = st.file_uploader(\"📤 Lade dein Fußballvideo hoch\", type=[\"mp4\", \"mov\"])\n",
        "if uploaded_file:\n",
        "    tfile = tempfile.NamedTemporaryFile(delete=False)\n",
        "    tfile.write(uploaded_file.read())\n",
        "    video_path = tfile.name\n",
        "\n",
        "    st.video(uploaded_file)\n",
        "\n",
        "    # Beispiel: Extrahiere erstes Frame\n",
        "    cap = cv2.VideoCapture(video_path)\n",
        "    ret, frame = cap.read()\n",
        "    cap.release()\n",
        "\n",
        "    if ret:\n",
        "        st.image(frame, caption=\"Erstes Frame\", channels=\"BGR\")\n",
        "\n",
        "        # Dummy-Scores (später durch echte KI ersetzen)\n",
        "        technik_score = 82.5\n",
        "        tempo_score = 74.3\n",
        "        pass_score = 91.0\n",
        "\n",
        "        st.subheader(\"📊 Bewertung\")\n",
        "        st.metric(\"Technik\", f\"{technik_score}/100\")\n",
        "        st.metric(\"Tempo\", f\"{tempo_score}/100\")\n",
        "        st.metric(\"Passgenauigkeit\", f\"{pass_score}/100\")"
      ],
      "metadata": {
        "id": "ZiWNESozapcL"
      },
      "execution_count": null,
      "outputs": []
    },
    {
      "cell_type": "code",
      "source": [
        "%%writefile app.py\n",
        "import streamlit as st\n",
        "import cv2\n",
        "import numpy as np\n",
        "import tempfile\n",
        "from PIL import Image\n",
        "\n",
        "st.set_page_config(page_title=\"FootyAI\", page_icon=\"⚽\")\n",
        "st.title(\"⚽ FootyAI – Fußballvideo bewerten mit KI\")\n",
        "st.write(\"Lade dein Fußballvideo hoch und erhalte Bewertungen für Technik, Tempo und Passgenauigkeit.\")\n",
        "\n",
        "uploaded_file = st.file_uploader(\"📤 Video hochladen\", type=[\"mp4\", \"mov\"])\n",
        "if uploaded_file:\n",
        "    tfile = tempfile.NamedTemporaryFile(delete=False)\n",
        "    tfile.write(uploaded_file.read())\n",
        "    video_path = tfile.name\n",
        "\n",
        "    st.video(uploaded_file)\n",
        "\n",
        "    # Extrahiere erstes Frame\n",
        "    cap = cv2.VideoCapture(video_path)\n",
        "    ret, frame = cap.read()\n",
        "    cap.release()\n",
        "\n",
        "    if ret:\n",
        "        st.image(frame, caption=\"Erstes Frame\", channels=\"BGR\")\n",
        "\n",
        "        # Dummy-Scores (du kannst später echte KI-Werte einfügen)\n",
        "        technik_score = 82.5\n",
        "        tempo_score = 74.3\n",
        "        pass_score = 91.0\n",
        "\n",
        "        st.subheader(\"📊 Bewertung\")\n",
        "        st.metric(\"Technik\", f\"{technik_score}/100\")\n",
        "        st.metric(\"Tempo\", f\"{tempo_score}/100\")\n",
        "        st.metric(\"Passgenauigkeit\", f\"{pass_score}/100\")\n",
        "\n",
        "        st.success(\"✅ Analyse abgeschlossen!\")\n",
        "    else:\n",
        "        st.error(\"❌ Fehler beim Lesen des Videos.\")"
      ],
      "metadata": {
        "id": "weur_LFyashr"
      },
      "execution_count": null,
      "outputs": []
    }
  ]
}